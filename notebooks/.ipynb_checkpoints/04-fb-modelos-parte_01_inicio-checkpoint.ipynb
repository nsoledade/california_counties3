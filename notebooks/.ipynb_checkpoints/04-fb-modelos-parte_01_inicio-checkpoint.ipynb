{
 "cells": [
  {
   "cell_type": "code",
   "execution_count": null,
   "id": "75424636-b47f-4337-b4b8-20b7dee2d21d",
   "metadata": {},
   "outputs": [],
   "source": [
    "import matplotlib.pyplot as plt\n",
    "import pandas as pd\n",
    "import seaborn as sns\n",
    "\n",
    "from sklearn.compose import ColumnTransformer\n",
    "from sklearn.dummy import DummyRegressor\n",
    "from sklearn.linear_model import ElasticNet, LinearRegression\n",
    "from sklearn.pipeline import Pipeline\n",
    "from sklearn.preprocessing import (\n",
    "    OrdinalEncoder,\n",
    "    OneHotEncoder,\n",
    "    PolynomialFeatures,\n",
    "    PowerTransformer,\n",
    "    RobustScaler,\n",
    "    StandardScaler,\n",
    "    QuantileTransformer,\n",
    ")\n",
    "\n",
    "from src.config import DADOS_LIMPOS\n",
    "from src.auxiliares import dataframe_coeficientes\n",
    "from src.graficos import (\n",
    "    plot_coeficientes,\n",
    "    plot_comparar_metricas_modelos,\n",
    "    plots_residuos_estimador,\n",
    ")\n",
    "from src.models import (\n",
    "    organiza_resultados,\n",
    "    treinar_e_validar_modelo_regressao,\n",
    "    grid_search_cv_regressor,\n",
    ")"
   ]
  },
  {
   "cell_type": "code",
   "execution_count": null,
   "id": "bb8ee65d-b393-4ba6-b635-f1146e74192f",
   "metadata": {},
   "outputs": [],
   "source": [
    "df = pd.read_parquet(DADOS_LIMPOS)\n",
    "\n",
    "df.head()"
   ]
  },
  {
   "cell_type": "code",
   "execution_count": null,
   "id": "d20dd7bd-3850-4237-85f4-a56cd72e80bd",
   "metadata": {},
   "outputs": [],
   "source": [
    "df.info()"
   ]
  }
 ],
 "metadata": {
  "kernelspec": {
   "display_name": "machine_learning",
   "language": "python",
   "name": "machine_learning"
  },
  "language_info": {
   "codemirror_mode": {
    "name": "ipython",
    "version": 3
   },
   "file_extension": ".py",
   "mimetype": "text/x-python",
   "name": "python",
   "nbconvert_exporter": "python",
   "pygments_lexer": "ipython3",
   "version": "3.12.5"
  }
 },
 "nbformat": 4,
 "nbformat_minor": 5
}
